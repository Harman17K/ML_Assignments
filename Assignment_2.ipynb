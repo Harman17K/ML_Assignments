{
 "cells": [
  {
   "cell_type": "code",
   "execution_count": 4,
   "metadata": {},
   "outputs": [
    {
     "name": "stdout",
     "output_type": "stream",
     "text": [
      "[[0.19490904]\n",
      " [0.09875547]\n",
      " [0.72531972]\n",
      " [0.99137311]\n",
      " [0.81847121]\n",
      " [0.29210854]\n",
      " [0.07120841]\n",
      " [0.24655002]\n",
      " [0.63274403]\n",
      " [0.74320436]]\n",
      "0.4814643909279579\n"
     ]
    }
   ],
   "source": [
    "#Q.1 - Create a numpy array with 10 elements of the shape(10,1) using np.random and \n",
    "#find out the mean of the elements using basic numpy functions.\n",
    "import numpy as np\n",
    "arr=np.random.rand(10,1)\n",
    "print(arr)\n",
    "print(arr.mean())"
   ]
  },
  {
   "cell_type": "code",
   "execution_count": 10,
   "metadata": {},
   "outputs": [
    {
     "name": "stdout",
     "output_type": "stream",
     "text": [
      "[[6.14869012e-01]\n",
      " [6.29509317e-01]\n",
      " [8.79666101e-01]\n",
      " [2.05442630e-01]\n",
      " [9.27595880e-01]\n",
      " [8.54141575e-01]\n",
      " [7.44852046e-01]\n",
      " [2.31078308e-02]\n",
      " [7.54594614e-01]\n",
      " [2.38320070e-01]\n",
      " [3.19774482e-01]\n",
      " [1.59186407e-01]\n",
      " [3.30436560e-04]\n",
      " [4.27578892e-01]\n",
      " [7.23820007e-01]\n",
      " [8.38005867e-01]\n",
      " [5.54594251e-02]\n",
      " [6.61738614e-01]\n",
      " [7.74203746e-01]\n",
      " [5.42998475e-01]]\n",
      "0.0925736292353211\n",
      "0.30425914815387406\n"
     ]
    }
   ],
   "source": [
    "#Q.2 - Create a numpy array with 20 elements of the shape(20,1) using np.random \n",
    "#find the variance and standard deviation of the elements.\n",
    "arr=np.random.rand(20,1)\n",
    "print(arr)\n",
    "print(arr.var())\n",
    "print(arr.std())"
   ]
  },
  {
   "cell_type": "code",
   "execution_count": 18,
   "metadata": {},
   "outputs": [
    {
     "name": "stdout",
     "output_type": "stream",
     "text": [
      "(10, 25)\n",
      "1270.9611141261541\n"
     ]
    }
   ],
   "source": [
    "#Q.3 - Create a numpy array A of shape(10,20) and B of shape (20,25) using np.random. \n",
    "#Print the matrix which is the matrix multiplication of A and B. The shape of the new matrix should be (10,25).\n",
    "#Using basic numpy math functions only find the sum of all the elements of the new matrix.\n",
    "arrA=np.random.rand(10,20)\n",
    "arrB=np.random.rand(20,25)\n",
    "C=np.matmul(arrA,arrB)\n",
    "print(np.shape(C))\n",
    "print(np.sum(C))"
   ]
  },
  {
   "cell_type": "code",
   "execution_count": 24,
   "metadata": {},
   "outputs": [
    {
     "name": "stdout",
     "output_type": "stream",
     "text": [
      "[[0.50887334]\n",
      " [0.82225132]\n",
      " [0.0150731 ]\n",
      " [0.16455391]\n",
      " [0.78235803]\n",
      " [0.66802683]\n",
      " [0.00359333]\n",
      " [0.49021592]\n",
      " [0.52030913]\n",
      " [0.89592698]]\n",
      "[[0.62454232]\n",
      " [0.69471402]\n",
      " [0.5037682 ]\n",
      " [0.5410459 ]\n",
      " [0.6861881 ]\n",
      " [0.66106119]\n",
      " [0.50089833]\n",
      " [0.6201573 ]\n",
      " [0.62722005]\n",
      " [0.71011178]]\n"
     ]
    }
   ],
   "source": [
    "#Q.4 - Create a numpy array A of shape(10,1).Using the basic operations of the numpy array generate an \n",
    "#array of shape(10,1) such that each element is the following function applied on each element of A. \n",
    "#f(x)=1 / (1 + exp(-x))\n",
    "arr=np.random.rand(10,1)\n",
    "def fun(a):\n",
    "    return 1 / (1 + np.exp(-a))\n",
    "arr1=np.apply_along_axis(fun,1,arr)\n",
    "print(arr1)"
   ]
  },
  {
   "cell_type": "code",
   "execution_count": null,
   "metadata": {},
   "outputs": [],
   "source": []
  }
 ],
 "metadata": {
  "kernelspec": {
   "display_name": "Python 3",
   "language": "python",
   "name": "python3"
  },
  "language_info": {
   "codemirror_mode": {
    "name": "ipython",
    "version": 3
   },
   "file_extension": ".py",
   "mimetype": "text/x-python",
   "name": "python",
   "nbconvert_exporter": "python",
   "pygments_lexer": "ipython3",
   "version": "3.7.1"
  }
 },
 "nbformat": 4,
 "nbformat_minor": 2
}
